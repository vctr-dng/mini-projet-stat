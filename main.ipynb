{
 "cells": [
  {
   "cell_type": "markdown",
   "metadata": {},
   "source": [
    "# Mini-projet de statistiques\n",
    "\n",
    "Informatique 2\n",
    "\n",
    "2022 2023"
   ]
  },
  {
   "cell_type": "code",
   "execution_count": null,
   "metadata": {},
   "outputs": [],
   "source": [
    "import warnings\n",
    "x = var('x')"
   ]
  },
  {
   "cell_type": "markdown",
   "metadata": {},
   "source": [
    "## 1 Génération de lois continues"
   ]
  },
  {
   "cell_type": "markdown",
   "metadata": {},
   "source": [
    "### 1. Ecriture de la fonction VAuniforme qui renvoie une valeur issue de la loi uniforme sur [a,b]"
   ]
  },
  {
   "cell_type": "code",
   "execution_count": null,
   "metadata": {},
   "outputs": [],
   "source": [
    "def VAuniforme(a, b):\n",
    "    if a > b:\n",
    "        warnings.warn(f\"[ERREUR] : VAUniforme, support invalide {a} > {b}\")\n",
    "        return\n",
    "    \n",
    "    return a + random() * (b-a)"
   ]
  },
  {
   "cell_type": "code",
   "execution_count": null,
   "metadata": {},
   "outputs": [],
   "source": [
    "VAuniforme(1, 10)"
   ]
  },
  {
   "cell_type": "markdown",
   "metadata": {},
   "source": [
    "### 2."
   ]
  },
  {
   "cell_type": "code",
   "execution_count": null,
   "metadata": {},
   "outputs": [],
   "source": [
    "def generateur_echantillon(loi_proba, n_echantillon, *args):\n",
    "    '''\n",
    "    Retourne une liste de n_echantillon echantillon(s) de loi_proba avec les paramètres *args\n",
    "    Exemple : generateur_echantillon(VAuniforme, 100, 0, 1)\n",
    "    '''\n",
    "    l_echantillon = []\n",
    "    for i in range(n_echantillon):\n",
    "        echantillon = loi_proba(*args)\n",
    "        l_echantillon.append(echantillon)\n",
    "    \n",
    "    return l_echantillon"
   ]
  },
  {
   "cell_type": "code",
   "execution_count": null,
   "metadata": {},
   "outputs": [],
   "source": [
    "def Erreur_Quadratique(l_echantillon, parametre):\n",
    "    '''\n",
    "    Calcul la moyenne des erreurs quadratiques moyennes entre le paramètre cible et les estimations issues de l'estimateur\n",
    "    '''\n",
    "    \n",
    "    l_diff_carre = [(echantillon-parametre)**2 for echantillon in l_echantillon]\n",
    "    return mean(l_diff_carre)"
   ]
  },
  {
   "cell_type": "markdown",
   "metadata": {},
   "source": [
    "Vérification pour la loi exponentielle $\\epsilon(\\lambda)$ avec $ \\lambda $ entier variant de 1 à 10"
   ]
  },
  {
   "cell_type": "code",
   "execution_count": null,
   "metadata": {},
   "outputs": [],
   "source": [
    "for lambd in range(1, 11):\n",
    "    E_ree = 1/lambd\n",
    "    V_ree = 1/(lambd**2)\n",
    "    l_E_est = []\n",
    "    l_V_est = []\n",
    "    \n",
    "    # for i in range(1000):\n",
    "    l_echantillon = generateur_echantillon(expovariate, 1000, lambd)\n",
    "    E_est = mean(l_echantillon)\n",
    "    V_est = variance(l_echantillon)\n",
    "\n",
    "    l_E_est.append(E_est)\n",
    "    l_V_est.append(V_est)\n",
    "\n",
    "    print(f'Lambda = {lambd}')\n",
    "    print('Erreur quadratique :')\n",
    "    print(f'- de la moyenne estimée : {Erreur_Quadratique(l_E_est, E_ree)}')\n",
    "    print(f'- de la variance estimée : {Erreur_Quadratique(l_V_est, V_ree)}')"
   ]
  },
  {
   "cell_type": "markdown",
   "metadata": {},
   "source": [
    "Vérification pour la loi gamma $\\Gamma(k,\\theta)$ où $k=5, \\theta=2$"
   ]
  },
  {
   "cell_type": "code",
   "execution_count": null,
   "metadata": {},
   "outputs": [],
   "source": [
    "k = 5\n",
    "theta = 2\n",
    "\n",
    "l_echantillon = generateur_echantillon(gammavariate, 1000, k, theta)\n",
    "\n",
    "E_est = mean(l_echantillon)\n",
    "V_est = variance(l_echantillon)\n",
    "\n",
    "print(f'Espérance réelle {k*theta}')\n",
    "print(f'Espérance estimée {E_est}')\n",
    "print(f'Variance réelle {k*theta**2}')\n",
    "print(f'Variance estimée {V_est}')"
   ]
  },
  {
   "cell_type": "markdown",
   "metadata": {},
   "source": [
    "Vérification pour la loi gamma $\\Gamma(k,\\theta)$ où k et $\\theta$ entiers variant de 1 à 10"
   ]
  },
  {
   "cell_type": "code",
   "execution_count": null,
   "metadata": {},
   "outputs": [],
   "source": [
    "for k in range(1, 11):\n",
    "    for theta in range(1, 11):\n",
    "        E_ree = k*theta\n",
    "        V_ree = k*(theta**2)\n",
    "        l_E_est = []\n",
    "        l_V_est = []\n",
    "\n",
    "        #for i in range(10):\n",
    "        l_echantillon = generateur_echantillon(gammavariate, 1000, k, theta)\n",
    "        E_est = mean(l_echantillon)\n",
    "        V_est = variance(l_echantillon)\n",
    "\n",
    "        l_E_est.append(E_est)\n",
    "        l_V_est.append(V_est)\n",
    "\n",
    "        print(f'k = {k}, theta = {theta}')\n",
    "        print('Erreur quadratique :')\n",
    "        print(f'- de la moyenne estimée : {Erreur_Quadratique(l_E_est, E_ree)}')\n",
    "        print(f'- de la variance estimée : {Erreur_Quadratique(l_V_est, V_ree)}')"
   ]
  },
  {
   "cell_type": "markdown",
   "metadata": {},
   "source": [
    "Vérification pour la loi normale $\\mathcal{N}(\\mu,\\,\\sigma^{2})$ où $\\mu$ et $\\sigma$ entiers variant de -5 à 5 et 1 à 10 respectivement"
   ]
  },
  {
   "cell_type": "code",
   "execution_count": null,
   "metadata": {},
   "outputs": [],
   "source": [
    "for mu in range(-5, 6):\n",
    "    for sigma in range(1, 11):\n",
    "        E_ree = mu\n",
    "        V_ree = sigma**2\n",
    "        l_E_est = []\n",
    "        l_V_est = []\n",
    "\n",
    "        #for i in range(10):\n",
    "        l_echantillon = generateur_echantillon(normalvariate, 1000, mu, sigma)\n",
    "        E_est = mean(l_echantillon)\n",
    "        V_est = variance(l_echantillon)\n",
    "\n",
    "        l_E_est.append(E_est)\n",
    "        l_V_est.append(V_est)\n",
    "\n",
    "        print(f'mu = {mu}, sigma = {sigma}')\n",
    "        print('Erreur quadratique :')\n",
    "        print(f'- de la moyenne estimée : {Erreur_Quadratique(l_E_est, E_ree)}')\n",
    "        print(f'- de la variance estimée : {Erreur_Quadratique(l_V_est, V_ree)}')"
   ]
  },
  {
   "cell_type": "markdown",
   "metadata": {},
   "source": [
    "Vérification pour la loi normale $\\mathcal{N}(\\mu,\\,\\sigma^{2})$ de paramètre $\\mu=5, \\sigma=2$"
   ]
  },
  {
   "cell_type": "code",
   "execution_count": null,
   "metadata": {},
   "outputs": [],
   "source": [
    "mu = 5\n",
    "sigma = 2\n",
    "\n",
    "l_echantillon = generateur_echantillon(normalvariate, 1000, mu, sigma)\n",
    "\n",
    "E_est = mean(l_echantillon)\n",
    "V_est = variance(l_echantillon)\n",
    "\n",
    "print(f'Espérance réelle {mu}')\n",
    "print(f'Espérance estimée {E_est}')\n",
    "print(f'Variance réelle {sigma**2}')\n",
    "print(f'Variance estimée {V_est}')"
   ]
  },
  {
   "cell_type": "markdown",
   "metadata": {},
   "source": [
    "### 3."
   ]
  },
  {
   "cell_type": "markdown",
   "metadata": {},
   "source": [
    "Histogramme pour 500 échantillons répartiés sur 20 classes pour une loi :"
   ]
  },
  {
   "cell_type": "markdown",
   "metadata": {},
   "source": [
    "- $\\epsilon(\\lambda)$ de paramètre $\\lambda= 5$"
   ]
  },
  {
   "cell_type": "code",
   "execution_count": null,
   "metadata": {},
   "outputs": [],
   "source": [
    "lamb = 5\n",
    "\n",
    "L_ech_exp = generateur_echantillon(expovariate, 500, lambd)"
   ]
  },
  {
   "cell_type": "code",
   "execution_count": null,
   "metadata": {},
   "outputs": [],
   "source": [
    "def densite_expo(x,lamb): #TODO\n",
    "    return lambd * exp(-lamb*x)"
   ]
  },
  {
   "cell_type": "code",
   "execution_count": null,
   "metadata": {},
   "outputs": [],
   "source": [
    "histogram(L_ech_exp,bins=20)+plot(densite_expo(x,lambd), (x, min(L_ech_exp)*0.95, max(L_ech_exp)*1.05), color='red', linestyle='-')"
   ]
  },
  {
   "cell_type": "code",
   "execution_count": null,
   "metadata": {},
   "outputs": [],
   "source": [
    "min_fact = min(L_ech_exp)\n",
    "max_fact = max(L_ech_exp)\n",
    "\n",
    "min_fact *= 0.95 if min(L_ech_exp) > 0 else 1.05\n",
    "max_fact *= 1.05 if max(L_ech_exp) > 0 else 0.95\n",
    "\n",
    "histogram(L_ech_exp,bins=20,density=True)+plot(densite_expo(x,lambd), (x, min_fact, max_fact), color='red', linestyle='-')"
   ]
  },
  {
   "cell_type": "markdown",
   "metadata": {},
   "source": [
    "- $\\Gamma(k,\\theta)$ de paramètre $ k = 5 $ et $ \\theta = 2 $"
   ]
  },
  {
   "cell_type": "code",
   "execution_count": null,
   "metadata": {},
   "outputs": [],
   "source": [
    "k = 5\n",
    "theta = 2\n",
    "\n",
    "L_ech_gamma = generateur_echantillon(gammavariate, 500, k, theta)"
   ]
  },
  {
   "cell_type": "code",
   "execution_count": null,
   "metadata": {},
   "outputs": [],
   "source": [
    "def densite_gamma(x, k, theta): #TODO\n",
    "    numerateur = (x**(k-1) * exp(-x/theta))\n",
    "    denominateur = gamma(k) * theta**(k)\n",
    "    \n",
    "    return numerateur/denominateur"
   ]
  },
  {
   "cell_type": "code",
   "execution_count": null,
   "metadata": {},
   "outputs": [],
   "source": [
    "min_fact = min(L_ech_gamma)\n",
    "max_fact = max(L_ech_gamma)\n",
    "\n",
    "min_fact *= 0.95 if min(L_ech_gamma) > 0 else 1.05\n",
    "max_fact *= 1.05 if max(L_ech_gamma) > 0 else 0.95\n",
    "\n",
    "histogram(L_ech_gamma,bins=20,density=True)+plot(densite_gamma(x, k, theta), (x, min_fact, max_fact), color='red', linestyle='-')"
   ]
  },
  {
   "cell_type": "markdown",
   "metadata": {},
   "source": [
    "- $\\mathcal{N}(\\mu,\\,\\sigma^{2})$ de paramètre $ \\mu = 5 $ et $ \\sigma = 4 $"
   ]
  },
  {
   "cell_type": "code",
   "execution_count": null,
   "metadata": {},
   "outputs": [],
   "source": [
    "mu = 5\n",
    "sigma = 4\n",
    "\n",
    "L_ech_norm = generateur_echantillon(normalvariate, 500, mu, sigma)"
   ]
  },
  {
   "cell_type": "code",
   "execution_count": null,
   "metadata": {},
   "outputs": [],
   "source": [
    "def densite_normale(x, mu, sigma):\n",
    "    variance = sigma**2\n",
    "    facteur = 1/(sigma*sqrt(2*pi))\n",
    "    argument = -((x-mu)**2)/(2*variance)\n",
    "    \n",
    "    return facteur * exp(argument)"
   ]
  },
  {
   "cell_type": "code",
   "execution_count": null,
   "metadata": {},
   "outputs": [],
   "source": [
    "min_fact = min(L_ech_norm)\n",
    "max_fact = max(L_ech_norm)\n",
    "\n",
    "min_fact *= 0.95 if min(L_ech_norm) > 0 else 1.05\n",
    "max_fact *= 1.05 if max(L_ech_norm) > 0 else 0.95\n",
    "\n",
    "histogram(L_ech_norm,bins=20,density=True)+plot(densite_normale(x, mu, sigma), (x, min_fact, max_fact), color='red', linestyle='-')"
   ]
  },
  {
   "cell_type": "markdown",
   "metadata": {},
   "source": [
    "L'option \"density\", lorsqu'elle est placée à \"False\", affiche le nombre de valeurs pour chaque classe.\n",
    "Lorsqu'elle est placée à \"True\", il y a une normalisation des valeurs en ordonnée de façon à obtenir une intégrale (plutôt une somme) égale à 1 sur la plage de valeur prise en abscisse."
   ]
  },
  {
   "cell_type": "markdown",
   "metadata": {},
   "source": [
    "## 2 Programmation du test du ${\\chi}^2$"
   ]
  },
  {
   "cell_type": "markdown",
   "metadata": {},
   "source": [
    "### 2.1 Ajustement à la loi de Poisson"
   ]
  },
  {
   "cell_type": "markdown",
   "metadata": {},
   "source": [
    "### 1."
   ]
  },
  {
   "cell_type": "code",
   "execution_count": null,
   "metadata": {},
   "outputs": [],
   "source": [
    "def probabilitePoisson(k, lamb):\n",
    "    \n",
    "    facteur = (lamb**k)/factorial(k)\n",
    "    expo = math.exp(-lamb)\n",
    "    \n",
    "    return facteur*expo"
   ]
  },
  {
   "cell_type": "code",
   "execution_count": null,
   "metadata": {},
   "outputs": [],
   "source": [
    "def DistTheoriquePoisson(LoiDiscObs, lamb):\n",
    "    # LoiDiscObs = [[effectif observée], [modalité]]\n",
    "    \n",
    "    distributionPoisson = [] #[probabilite théorique]\n",
    "    \n",
    "    listeModalite = LoiDiscObs[1]\n",
    "    \n",
    "    for modalite in listeModalite:\n",
    "        distributionPoisson.append(probabilitePoisson(modalite, lamb))\n",
    "    \n",
    "    return distributionPoisson"
   ]
  },
  {
   "cell_type": "markdown",
   "metadata": {},
   "source": [
    "### 2."
   ]
  },
  {
   "cell_type": "code",
   "execution_count": null,
   "metadata": {},
   "outputs": [],
   "source": [
    "def DistributionaEffectifTheorique(distributionTheorique, tailleEchantillon):\n",
    "    # distributionTheorique = [probabilité théorique]\n",
    "    \n",
    "    effTheorique = [tailleEchantillon * probabiliteTheorique for probabiliteTheorique in distributionTheorique]\n",
    "    \n",
    "    return effTheorique # [effectif théorique]\n",
    "\n",
    "def DistanceChiDeux(EffObs, EffTheorique):\n",
    "    # EffObs = [effectif observée]\n",
    "    # EffTheorique = [effectif théorique]\n",
    "    \n",
    "    distance = 0\n",
    "    \n",
    "    nbrModalite = len(EffObs)\n",
    "    listeEffectifObs = EffObs[0]\n",
    "    \n",
    "    for k in range(nbrModalite):\n",
    "        distance = distance + ((EffObs[k] - EffTheorique[k])**2)/EffTheorique[k]\n",
    "    \n",
    "    return distance"
   ]
  },
  {
   "cell_type": "markdown",
   "metadata": {},
   "source": [
    "### 2.2 Convergence de la loi binomiale vers la loi de Poisson"
   ]
  },
  {
   "cell_type": "markdown",
   "metadata": {},
   "source": [
    "### 1."
   ]
  },
  {
   "cell_type": "code",
   "execution_count": null,
   "metadata": {},
   "outputs": [],
   "source": [
    "def Bernoulli(p):\n",
    "    valeur = 0\n",
    "    \n",
    "    a = random()\n",
    "    if a <= p:\n",
    "        valeur = 1\n",
    "    else:\n",
    "        valeur = 0\n",
    "    \n",
    "    return valeur"
   ]
  },
  {
   "cell_type": "code",
   "execution_count": null,
   "metadata": {},
   "outputs": [],
   "source": [
    "l = []\n",
    "for i in range(10000):\n",
    "    l.append(Bernoulli(0.25))\n",
    "\n",
    "print(float(mean(l)))"
   ]
  },
  {
   "cell_type": "markdown",
   "metadata": {},
   "source": [
    "### 2."
   ]
  },
  {
   "cell_type": "code",
   "execution_count": null,
   "metadata": {},
   "outputs": [],
   "source": [
    "def Binomiale(n, p):\n",
    "    tirageBernoulli = generateur_echantillon(Bernoulli, n, p)\n",
    "    \n",
    "    valeur = sum(tirageBernoulli)\n",
    "    \n",
    "    return valeur"
   ]
  },
  {
   "cell_type": "code",
   "execution_count": null,
   "metadata": {},
   "outputs": [],
   "source": [
    "n = 8\n",
    "p = 0.25\n",
    "\n",
    "l = []\n",
    "for i in range(10000):\n",
    "    l.append(Binomiale(n, p))\n",
    "\n",
    "moyObs = float(mean(l))\n",
    "moyTheo = n*p\n",
    "\n",
    "print(f'Moyenne théorique : {moyTheo}')\n",
    "print(f'Moyenne observée : {moyObs}')"
   ]
  },
  {
   "cell_type": "markdown",
   "metadata": {},
   "source": [
    "### 3."
   ]
  },
  {
   "cell_type": "code",
   "execution_count": null,
   "metadata": {
    "scrolled": true
   },
   "outputs": [],
   "source": [
    "def LoiDiscreteObs(L, a, b):\n",
    "    \n",
    "    L_ord = [x for x in L] # copie carbone sinon on ne fait que copier la référence à la liste\n",
    "    L_ord.sort() # trie en place de la liste copiée, la liste originale est intouchée\n",
    "    \n",
    "    elt = []\n",
    "    eff = []\n",
    "    \n",
    "    index = 0\n",
    "    \n",
    "    while(index < len(L_ord)):\n",
    "        val = L_ord[index]\n",
    "        \n",
    "        if val < a:\n",
    "            index = index + 1\n",
    "        if val >= a:\n",
    "            if val <= b:\n",
    "                elt.append(val)\n",
    "                occurence = L_ord.count(val)\n",
    "                eff.append(occurence)\n",
    "                index = index + occurence\n",
    "            else: # val > b\n",
    "                index = len(L_ord) # equivalent à break\n",
    "    \n",
    "    return [eff, elt]"
   ]
  },
  {
   "cell_type": "code",
   "execution_count": null,
   "metadata": {},
   "outputs": [],
   "source": [
    "L = [randint(0, 10) for i in range(20)]\n",
    "\n",
    "print(L)\n",
    "print(LoiDiscreteObs(L, 3, 7))"
   ]
  },
  {
   "cell_type": "markdown",
   "metadata": {},
   "source": [
    "### 4.\n",
    "$n \\geq 50$ et $\\lambda \\leq 0,1$"
   ]
  },
  {
   "cell_type": "code",
   "execution_count": null,
   "metadata": {
    "scrolled": true
   },
   "outputs": [],
   "source": [
    "#n = randint(50, 10000)\n",
    "\n",
    "n = 50\n",
    "p = VAuniforme(0, 0.1)\n",
    "\n",
    "param_estim = 0\n",
    "\n",
    "tailleEchantillon = 1000\n",
    "\n",
    "print(f'n = {n}')\n",
    "print(f'p = {p}')\n",
    "print(f'taille d\\'échantillon = {tailleEchantillon}')"
   ]
  },
  {
   "cell_type": "code",
   "execution_count": null,
   "metadata": {
    "scrolled": false
   },
   "outputs": [],
   "source": [
    "echantillon_binomiale = generateur_echantillon(Binomiale, tailleEchantillon, n, p)\n",
    "\n",
    "moyObs = mean(echantillon_binomiale)\n",
    "varObs = variance(echantillon_binomiale)\n",
    "\n",
    "moyTheo = n*p\n",
    "varTheo = n*p*(1-p)\n",
    "\n",
    "print(f'Moyenne observée : {float(moyObs)}')\n",
    "print(f'Moyenne théorique : {moyTheo}')\n",
    "print()\n",
    "print(f'Variance observée : {float(varObs)}')\n",
    "print(f'Variance théorique : {varTheo}')"
   ]
  },
  {
   "cell_type": "code",
   "execution_count": null,
   "metadata": {},
   "outputs": [],
   "source": [
    "loiObs = LoiDiscreteObs(echantillon_binomiale, 0, max(echantillon_binomiale))\n",
    "print(f'Observations de la loi discrète :\\n{loiObs}')\n",
    "\n",
    "lModalite = loiObs[1]\n",
    "nbrModalite = len(lModalite)\n",
    "\n",
    "print(f'Nombres de modalités : {nbrModalite}')\n",
    "\n",
    "modalitePauvre = []\n",
    "for i in range(nbrModalite):\n",
    "    effectif = loiObs[0][i]\n",
    "    if effectif < 5:\n",
    "        modalitePauvre.append(lModalite[i])\n",
    "\n",
    "if len(modalitePauvre) > 0:\n",
    "    print(\"Attention les modalités suivantes ont moins de 5 observations :\")\n",
    "    print(', '.join(map(str, modalitePauvre)))"
   ]
  },
  {
   "cell_type": "code",
   "execution_count": null,
   "metadata": {},
   "outputs": [],
   "source": [
    "lamb = moyObs\n",
    "param_estim += 1\n",
    "\n",
    "distributionTheorique = DistTheoriquePoisson(loiObs, lamb)\n",
    "\n",
    "print(distributionTheorique)\n",
    "\n",
    "effectifTheorique = DistributionaEffectifTheorique(distributionTheorique, tailleEchantillon)\n",
    "\n",
    "print(effectifTheorique)"
   ]
  },
  {
   "cell_type": "code",
   "execution_count": null,
   "metadata": {},
   "outputs": [],
   "source": [
    "print('Observations :')\n",
    "print(loiObs)\n",
    "    \n",
    "print('Théorie : ')\n",
    "print(effectifTheorique)\n",
    "\n",
    "distKhi2 = DistanceChiDeux(loiObs[0], effectifTheorique)\n",
    "\n",
    "print(f'Il y a {nbrModalite} classes')\n",
    "print(f'Il a été estimé {param_estim} paramètre{\"s\" if param_estim > 1 else \"\"}')\n",
    "print(f'Le degré de liberté est {nbrModalite-1-param_estim}')\n",
    "\n",
    "print(f'La valeur de la distance suite au test du khi 2 est : {distKhi2}')"
   ]
  },
  {
   "cell_type": "markdown",
   "metadata": {},
   "source": [
    "### 2.3 Ajustement à la loi exponentielle"
   ]
  },
  {
   "cell_type": "markdown",
   "metadata": {},
   "source": [
    "### Etude de la structure de donnée LoiObs"
   ]
  },
  {
   "cell_type": "code",
   "execution_count": null,
   "metadata": {},
   "outputs": [],
   "source": [
    "lamb = 1\n",
    "taille_echan = 100\n",
    "\n",
    "echan_exp = generateur_echantillon(expovariate, taille_echan, lamb)\n",
    "print(echan_exp[0:100//10])\n",
    "\n",
    "echan_exp = finance.TimeSeries(echan_exp)\n",
    "\n",
    "print(echan_exp)\n",
    "\n",
    "LoiObs = echan_exp.histogram(lamb*4)\n",
    "\n",
    "print(LoiObs)\n",
    "\n",
    "echan_exp.plot_histogram(bins=lamb*5, normalize=True, aspect_ratio=1)"
   ]
  },
  {
   "cell_type": "markdown",
   "metadata": {},
   "source": [
    "### Détermination de la moyenne empirique sur des classes"
   ]
  },
  {
   "cell_type": "code",
   "execution_count": null,
   "metadata": {},
   "outputs": [],
   "source": [
    "def moyenneSurClasses(loiObs):\n",
    "    # LoiObs = [[effectif observée], [classe]]\n",
    "    \n",
    "    effObs = loiObs[0]\n",
    "    classes = loiObs[1]\n",
    "    \n",
    "    moyObs = 0\n",
    "    for i in range(len(classes)):\n",
    "        classe = classes[i]\n",
    "        classeMoyenne = (classe[0]+classe[1])/2\n",
    "        effectif = effObs[i]\n",
    "\n",
    "        moyObs = moyObs + (classeMoyenne * effectif)/tailleEchantillon\n",
    "        \n",
    "    return moyObs"
   ]
  },
  {
   "cell_type": "markdown",
   "metadata": {},
   "source": [
    "### 1.\n",
    "\n",
    "$ \\mathbb{P}(X \\in [a;b[) = \\int_{a}^{b} \\lambda e^{-\\lambda x} \\,dx = e^{-\\lambda a} - e^{-\\lambda b} $\n",
    "\n",
    "Cas particulier où $ b = +\\infty$\n",
    "\n",
    "$ \\mathbb{P}(X \\in [a;+\\infty[) = \\int_{a}^{+\\infty} \\lambda e^{-\\lambda x} \\,dx = e^{-\\lambda a}$"
   ]
  },
  {
   "cell_type": "code",
   "execution_count": null,
   "metadata": {},
   "outputs": [],
   "source": [
    "def DistTheoriqueExp(LoiObs, lamb):\n",
    "    # LoiObs = [[effectif observée], [classe]]\n",
    "    \n",
    "    distriExp = [] #[probabilité théorique]\n",
    "    \n",
    "    classes = LoiObs[1]\n",
    "    \n",
    "    for i in range(len(classes)-1):\n",
    "        classe = classes[i]\n",
    "        a = classe[0]\n",
    "        b = classe[1]\n",
    "        \n",
    "        proba = exp(-lamb*a) - exp(-lamb*b)\n",
    "        distriExp.append(proba)\n",
    "    \n",
    "    derniereClasse = classes[-1]\n",
    "    derniereProba = exp(-lamb*derniereClasse[0])\n",
    "    distriExp.append(derniereProba)\n",
    "    \n",
    "    return distriExp"
   ]
  },
  {
   "cell_type": "markdown",
   "metadata": {},
   "source": [
    "### 2."
   ]
  },
  {
   "cell_type": "code",
   "execution_count": null,
   "metadata": {},
   "outputs": [],
   "source": [
    "'''\n",
    "Cellule archivée\n",
    "'''\n",
    "\n",
    "\n",
    "effObs = [39, 26, 17 ,10, 6, 2]\n",
    "classes = [(i, i+10) for i in range(0, 60, 10)]\n",
    "\n",
    "l_obs = [] # [[effectif observée], [classe]]\n",
    "\n",
    "for i in range(len(classes)):\n",
    "    classe = classes[i]\n",
    "    eff = effObs[i]\n",
    "    l_obs += [(classe[0]+classe[1])/2] * eff\n",
    "\n",
    "print(l_obs)\n",
    "\n",
    "l_obs = finance.TimeSeries(l_obs)\n",
    "\n",
    "LoiObs = l_obs.histogram(len(classes))\n",
    "LoiObs[1] = classes\n",
    "\n",
    "print(LoiObs)\n",
    "\n",
    "l_obs.plot_histogram(bins=len(classes), normalize=True, aspect_ratio=1)"
   ]
  },
  {
   "cell_type": "code",
   "execution_count": null,
   "metadata": {},
   "outputs": [],
   "source": [
    "effObs = [39, 26, 17 ,10, 6, 2]\n",
    "classes = [(i, i+10) for i in range(0, 60, 10)]\n",
    "\n",
    "tailleEchantillon = sum(effObs)\n",
    "\n",
    "paramEstime = 0\n",
    "\n",
    "'''for i in range(len(classes)):\n",
    "    classe = classes[i]\n",
    "    classeMoyenne = (classe[0]+classe[1])/2\n",
    "    effectif = effObs[i]\n",
    "    \n",
    "    moyObs = moyObs + (classeMoyenne * effectif)/tailleEchantillon'''\n",
    "\n",
    "loiObs = [effObs, classes]\n",
    "\n",
    "print(f'Observations de la loi discrète :\\n{loiObs}')\n",
    "\n",
    "moyObs = moyenneSurClasses(loiObs)\n",
    "    \n",
    "print(f'Moyenne observée : {float(moyObs)}')\n",
    "\n",
    "nbrClasse = len(classes)\n",
    "\n",
    "print(f'Nombres de classes : {nbrClasse}')\n",
    "\n",
    "classePauvre = []\n",
    "for i in range(nbrClasse):\n",
    "    effectif = effObs[i]\n",
    "    if effectif < 5:\n",
    "        classePauvre.append(classes[i])\n",
    "\n",
    "if len(classePauvre) > 0:\n",
    "    print(\"Attention les classes suivantes ont moins de 5 observations :\")\n",
    "    print(', '.join(map(str, classePauvre)))"
   ]
  },
  {
   "cell_type": "code",
   "execution_count": null,
   "metadata": {},
   "outputs": [],
   "source": [
    "lamb = 1/moyObs\n",
    "paramEstime += 1\n",
    "\n",
    "distributionTheorique = DistTheoriqueExp(loiObs, lamb)\n",
    "\n",
    "print(distributionTheorique)\n",
    "\n",
    "effectifTheorique = DistributionaEffectifTheorique(distributionTheorique, tailleEchantillon)\n",
    "\n",
    "print(effectifTheorique)"
   ]
  },
  {
   "cell_type": "code",
   "execution_count": null,
   "metadata": {},
   "outputs": [],
   "source": [
    "print('Observations :')\n",
    "print(loiObs)\n",
    "    \n",
    "print('Théorie : ')\n",
    "print(effectifTheorique)\n",
    "\n",
    "distKhi2 = DistanceChiDeux(loiObs[0], effectifTheorique)\n",
    "\n",
    "print(f'Il y a {nbrClasse} classes')\n",
    "print(f'Il a été estimé {paramEstime} paramètre{\"s\" if paramEstime > 1 else \"\"}')\n",
    "print(f'Le degré de liberté est {nbrClasse-1-paramEstime}')\n",
    "\n",
    "print(f'La valeur de la distance suite au test du khi 2 est : {float(distKhi2)}')"
   ]
  },
  {
   "cell_type": "markdown",
   "metadata": {},
   "source": [
    "### 2.4 Ajustement à la loi normale\n",
    "\n",
    "### 1."
   ]
  },
  {
   "cell_type": "code",
   "execution_count": null,
   "metadata": {},
   "outputs": [],
   "source": [
    "def DistTheoriqueNorm(LoiObs, moy, sig):\n",
    "    # LoiObs = [[effectif observée], [classe]]\n",
    "    \n",
    "    distriNorm = [] #[probabilité théorique]\n",
    "    \n",
    "    classes = LoiObs[1]\n",
    "    \n",
    "    for i in range(len(classes)-1):\n",
    "        classe = classes[i]\n",
    "        a = classe[0]\n",
    "        b = classe[1]\n",
    "        \n",
    "        proba = numerical_integral(densite_normale(x, moy, sig), a=a, b=b)[0]\n",
    "        distriNorm.append(proba)\n",
    "        \n",
    "    derniereClasse = classes[-1]\n",
    "    a = derniereClasse[0]\n",
    "    derniereProba = numerical_integral(densite_normale(x, moy, sig), a=a, b=+infinity)[0]\n",
    "    \n",
    "    distriNorm.append(derniereProba)\n",
    "    \n",
    "    return distriNorm"
   ]
  },
  {
   "cell_type": "markdown",
   "metadata": {},
   "source": [
    "### 2."
   ]
  },
  {
   "cell_type": "code",
   "execution_count": null,
   "metadata": {},
   "outputs": [],
   "source": [
    "moyTheo = 0\n",
    "varTheo = 1\n",
    "\n",
    "paramEstime = 0\n",
    "\n",
    "tailleEchantillon = 1000\n",
    "\n",
    "normObs = generateur_echantillon(normalvariate, tailleEchantillon, moyTheo, varTheo)\n",
    "normObs = finance.TimeSeries(normObs)"
   ]
  },
  {
   "cell_type": "code",
   "execution_count": null,
   "metadata": {},
   "outputs": [],
   "source": [
    "loiObs = normObs.histogram(10)\n",
    "effObs = loiObs[0]\n",
    "classes = loiObs[1]\n",
    "nbrClasse = len(classes)\n",
    "\n",
    "moyObs = mean(normObs)\n",
    "print(f'Moyenne empirique observée : {moyObs}')\n",
    "\n",
    "varObs = variance(normObs)\n",
    "print(f'Variance empirique observée : {varObs}')\n",
    "\n",
    "\n",
    "'''moyObs = moyenneSurClasses(loiObs)\n",
    "print(f'Moyenne empirique observée : {moyObs}')\n",
    "\n",
    "varObs = moyenneSurClasses([[eff**2 for eff in effObs] , classes]) - moyObs**2\n",
    "print(f'Variance empirique observée : {varObs}')'''\n",
    "\n",
    "print(f'Observations de la loi discrète :\\n{loiObs}')\n",
    "\n",
    "print(f'Nombres de classes : {nbrClasse}')\n",
    "\n",
    "classePauvre = []\n",
    "for i in range(nbrClasse):\n",
    "    effectif = effObs[i]\n",
    "    if effectif < 5:\n",
    "        classePauvre.append(classes[i])\n",
    "\n",
    "if len(classePauvre) > 0:\n",
    "    print(f'Attention il y a {len(classePauvre)} classe{\"s\" if len(classePauvre) > 1 else \"\"} avec moins de 5 observations :')\n",
    "    print(', '.join(map(str, classePauvre)))\n",
    "\n",
    "normObs.plot_histogram(bins=nbrClasse, normalize=True, aspect_ratio=1)"
   ]
  },
  {
   "cell_type": "code",
   "execution_count": null,
   "metadata": {
    "scrolled": true
   },
   "outputs": [],
   "source": [
    "mu = moyObs\n",
    "paramEstime += 1\n",
    "sig = sqrt(varObs)\n",
    "paramEstime += 1\n",
    "\n",
    "distributionTheorique = DistTheoriqueNorm(loiObs, mu, sig)\n",
    "\n",
    "print(distributionTheorique)\n",
    "\n",
    "effectifTheorique = DistributionaEffectifTheorique(distributionTheorique, tailleEchantillon)\n",
    "\n",
    "print(effectifTheorique)"
   ]
  },
  {
   "cell_type": "code",
   "execution_count": null,
   "metadata": {},
   "outputs": [],
   "source": [
    "print(sig, mu)\n",
    "plot(densite_normale(x, mu, sig), (x, -4, 4), color='red', linestyle='-')"
   ]
  },
  {
   "cell_type": "code",
   "execution_count": null,
   "metadata": {},
   "outputs": [],
   "source": [
    "print('Observations :')\n",
    "print(loiObs)\n",
    "    \n",
    "print('Théorie : ')\n",
    "print(effectifTheorique)\n",
    "\n",
    "distKhi2 = DistanceChiDeux(loiObs[0], effectifTheorique)\n",
    "\n",
    "print(f'Il y a {nbrClasse} classes')\n",
    "print(f'Il a été estimé {paramEstime} paramètre{\"s\" if paramEstime > 1 else \"\"}')\n",
    "print(f'Le degré de liberté est {nbrClasse-1-paramEstime}')\n",
    "\n",
    "print(f'La valeur de la distance suite au test du khi 2 est : {float(distKhi2)}')"
   ]
  },
  {
   "cell_type": "markdown",
   "metadata": {},
   "source": [
    "## 3 Théorème central limite avec $SageMath$"
   ]
  },
  {
   "cell_type": "markdown",
   "metadata": {},
   "source": [
    "### 3.1 Génération d'un échantillon de taille m issue de la moyenne empirique de n v.a i.i.d de loi $\\Gamma(\\alpha,\\beta)$"
   ]
  },
  {
   "cell_type": "code",
   "execution_count": null,
   "metadata": {},
   "outputs": [],
   "source": [
    "n = 15\n",
    "m = 500\n",
    "alpha = 2\n",
    "beta = 5\n",
    "\n",
    "l_m_emp_obs = []\n",
    "\n",
    "for i in range(m):\n",
    "    l_echantillon = generateur_echantillon(gammavariate, n, alpha, beta)\n",
    "    m_emp_obs = mean(l_echantillon)\n",
    "    l_m_emp_obs.append(m_emp_obs)"
   ]
  },
  {
   "cell_type": "markdown",
   "metadata": {},
   "source": [
    "### 3.2 Visualisation des effets du théorème central limite"
   ]
  },
  {
   "cell_type": "code",
   "execution_count": null,
   "metadata": {
    "scrolled": true
   },
   "outputs": [],
   "source": [
    "sigma_TCL = mean(l_m_emp_obs)\n",
    "mu_TCL_nb = sqrt(variance(l_m_emp_obs)) # s'\n",
    "mu_TCL_b = sqrt(variance(l_m_emp_obs), bias=True) # s\n",
    "\n",
    "histogram(l_m_emp_obs,bins=20,density=true)+plot(densite_normale(x, sigma_TCL, mu_TCL_nb), (min(l_m_emp_obs)*0.9, max(l_m_emp_obs)*1.1), color='red', linestyle='-')#+plot(densite_normale(x, sigma_TCL, mu_TCL_b), (min(l_m_emp_obs)*0.9, max(l_m_emp_obs)*1.1), color='blue', linestyle='-')"
   ]
  },
  {
   "cell_type": "code",
   "execution_count": null,
   "metadata": {},
   "outputs": [],
   "source": []
  }
 ],
 "metadata": {
  "kernelspec": {
   "display_name": "SageMath 9.3",
   "language": "sage",
   "name": "sagemath"
  },
  "language_info": {
   "codemirror_mode": {
    "name": "ipython",
    "version": 3
   },
   "file_extension": ".py",
   "mimetype": "text/x-python",
   "name": "python",
   "nbconvert_exporter": "python",
   "pygments_lexer": "ipython3",
   "version": "3.7.10"
  },
  "vscode": {
   "interpreter": {
    "hash": "bdd467bb7a4f68e3b269196ac6111605f64c5fc48bbe9ab62ea9179eddee323f"
   }
  }
 },
 "nbformat": 4,
 "nbformat_minor": 4
}
