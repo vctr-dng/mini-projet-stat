{
 "cells": [
  {
   "cell_type": "markdown",
   "metadata": {},
   "source": [
    "# Mini-projet de statistiques\n",
    "\n",
    "Informatique 2\n",
    "\n",
    "2022 2023"
   ]
  },
  {
   "cell_type": "code",
   "execution_count": null,
   "metadata": {},
   "outputs": [],
   "source": [
    "import warnings"
   ]
  },
  {
   "cell_type": "markdown",
   "metadata": {},
   "source": [
    "## 1 Génération de lois continues"
   ]
  },
  {
   "cell_type": "markdown",
   "metadata": {},
   "source": [
    "### 1. Ecriture de la fonction VAuniforme qui renvoie une valeur issue de la loi uniforme sur [a,b]"
   ]
  },
  {
   "cell_type": "code",
   "execution_count": null,
   "metadata": {},
   "outputs": [],
   "source": [
    "def VAuniforme(a, b):\n",
    "    if a > b:\n",
    "        warnings.warn(f\"[ERREUR] : VAUniforme, support invalide {a} > {b}\")\n",
    "        return\n",
    "    \n",
    "    return a + random() * (b-a)"
   ]
  },
  {
   "cell_type": "code",
   "execution_count": null,
   "metadata": {},
   "outputs": [],
   "source": [
    "VAuniforme(1, 10)"
   ]
  },
  {
   "cell_type": "markdown",
   "metadata": {},
   "source": [
    "### 2."
   ]
  },
  {
   "cell_type": "code",
   "execution_count": null,
   "metadata": {},
   "outputs": [],
   "source": [
    "def generateur_echantillon(loi_proba, n_echantillon, *args,):\n",
    "    '''\n",
    "    Retourne une liste de n_echantillon echantillon(s) de loi_proba avec les paramètres *args\n",
    "    Exemple : generateur_echantillon(VAuniforme, 100, 0, 1)\n",
    "    '''\n",
    "    l_echantillon = []\n",
    "    for i in range(n_echantillon):\n",
    "        echantillon = loi_proba(*args)\n",
    "        l_echantillon.append(echantillon)\n",
    "    \n",
    "    return l_echantillon\n",
    "\n",
    "def Erreur_Quadratique_Moyenne(l_echantillon, parametre):\n",
    "    l_diff_carre = [(echantillon-parametre)**2 for echantillon in l_echantillon]\n",
    "    return mean(l_diff_carre)"
   ]
  },
  {
   "cell_type": "markdown",
   "metadata": {},
   "source": [
    "Vérification pour la loi exponentielle"
   ]
  },
  {
   "cell_type": "code",
   "execution_count": null,
   "metadata": {
    "collapsed": true
   },
   "outputs": [],
   "source": [
    "for lambd in range(1, 100):\n",
    "    E_ree = 1/lambd\n",
    "    V_ree = 1/(lambd**2)\n",
    "    l_E_est = []\n",
    "    l_V_est = []\n",
    "    \n",
    "    for i in range(1000):\n",
    "        l_echantillon = generateur_echantillon(expovariate, 1000, lambd)\n",
    "        E_est = mean(l_echantillon)\n",
    "        V_est = variance(l_echantillon)\n",
    "        \n",
    "        l_E_est.append(E_est)\n",
    "        l_V_est.append(V_est)\n",
    "\n",
    "    print(f'Lambda = {lambd}')\n",
    "    print('Erreur quadratique moyenne :')\n",
    "    print(f'- de la moyenne estimée : {Erreur_Quadratique_Moyenne(l_E_est, E_ree)}')\n",
    "    print(f'- de la variance estimée : {Erreur_Quadratique_Moyenne(l_V_est, V_ree)}')"
   ]
  },
  {
   "cell_type": "markdown",
   "metadata": {},
   "source": [
    "Vérification pour la loi gamma"
   ]
  },
  {
   "cell_type": "code",
   "execution_count": null,
   "metadata": {
    "collapsed": true
   },
   "outputs": [],
   "source": [
    "for k in range(1, 10):\n",
    "    for theta in range(1, 10):\n",
    "        E_ree = k*theta\n",
    "        V_ree = k*(theta**2)\n",
    "        l_E_est = []\n",
    "        l_V_est = []\n",
    "\n",
    "        for i in range(10):\n",
    "            l_echantillon = generateur_echantillon(gammavariate, 10000, k, 1/theta)\n",
    "            E_est = mean(l_echantillon)\n",
    "            V_est = variance(l_echantillon)\n",
    "\n",
    "            l_E_est.append(E_est)\n",
    "            l_V_est.append(V_est)\n",
    "\n",
    "        print(f'k = {k}, theta = {theta}')\n",
    "        print('Erreur quadratique moyenne :')\n",
    "        print(f'- de la moyenne estimée : {Erreur_Quadratique_Moyenne(l_E_est, E_ree)}')\n",
    "        print(f'- de la variance estimée : {Erreur_Quadratique_Moyenne(l_V_est, V_ree)}')"
   ]
  },
  {
   "cell_type": "markdown",
   "metadata": {},
   "source": [
    "Vérification pour la loi normale"
   ]
  },
  {
   "cell_type": "code",
   "execution_count": null,
   "metadata": {
    "collapsed": true
   },
   "outputs": [],
   "source": [
    "for mu in range(-50, 50):\n",
    "    for sigma in range(1, 10):\n",
    "        E_ree = mu\n",
    "        V_ree = sigma**2\n",
    "        l_E_est = []\n",
    "        l_V_est = []\n",
    "\n",
    "        for i in range(10):\n",
    "            l_echantillon = generateur_echantillon(normalvariate, 10000, mu, sigma)\n",
    "            E_est = mean(l_echantillon)\n",
    "            V_est = variance(l_echantillon)\n",
    "\n",
    "            l_E_est.append(E_est)\n",
    "            l_V_est.append(V_est)\n",
    "\n",
    "        print(f'mu = {mu}, sigma = {sigma}')\n",
    "        print('Erreur quadratique moyenne :')\n",
    "        print(f'- de la moyenne estimée : {Erreur_Quadratique_Moyenne(l_E_est, E_ree)}')\n",
    "        print(f'- de la variance estimée : {Erreur_Quadratique_Moyenne(l_V_est, V_ree)}')"
   ]
  },
  {
   "cell_type": "markdown",
   "metadata": {},
   "source": [
    "### 3."
   ]
  },
  {
   "cell_type": "markdown",
   "metadata": {},
   "source": [
    "Histogramme pour 500 échantillons répartiés sur 20 classes pour la loi :"
   ]
  },
  {
   "cell_type": "code",
   "execution_count": null,
   "metadata": {},
   "outputs": [],
   "source": []
  },
  {
   "cell_type": "markdown",
   "metadata": {},
   "source": [
    "- $\\epsilon(\\lambda)$ de paramètre $\\lambda= 5$"
   ]
  },
  {
   "cell_type": "code",
   "execution_count": null,
   "metadata": {},
   "outputs": [],
   "source": [
    "lambd = 5\n",
    "\n",
    "L_ech_exp = generateur_echantillon(expovariate, 500, lambd)"
   ]
  },
  {
   "cell_type": "code",
   "execution_count": null,
   "metadata": {
    "collapsed": true
   },
   "outputs": [],
   "source": [
    "histogram(L_ech_exp,bins=20)+plot(lambd*exp(-lambd*x), (x, min(L_ech_exp)*1.05, max(L_ech_exp)*1.05), color='red', linestyle='-')"
   ]
  },
  {
   "cell_type": "code",
   "execution_count": null,
   "metadata": {},
   "outputs": [],
   "source": [
    "histogram(L_ech_exp,bins=20,density=true)+plot(lambd*exp(-lambd*x), (x, min(L_ech_exp)*1.05, max(L_ech_exp)*1.05), color='red', linestyle='-')"
   ]
  },
  {
   "cell_type": "markdown",
   "metadata": {},
   "source": [
    "- $\\Gamma(k,\\frac{1}{\\theta})$ de paramètre $ k = 5 $ et $ \\theta = 2 $"
   ]
  },
  {
   "cell_type": "code",
   "execution_count": null,
   "metadata": {},
   "outputs": [],
   "source": [
    "k = 1\n",
    "theta = 0.9\n",
    "\n",
    "L_ech_exp = generateur_echantillon(gammavariate, 500, k, theta)"
   ]
  },
  {
   "cell_type": "code",
   "execution_count": null,
   "metadata": {},
   "outputs": [],
   "source": [
    "histogram(L_ech_exp,bins=20,density=true)+plot((x**(k-1)*exp(-x*theta)*theta**(k))/1, (x, min(L_ech_exp)*1.05, max(L_ech_exp)*1.05), color='red', linestyle='-')"
   ]
  },
  {
   "cell_type": "markdown",
   "metadata": {},
   "source": [
    "- $\\mathcal{N}(\\mu,\\,\\sigma^{2})$ de paramètre $ \\mu = 5 $ et $ \\sigma = 1 $"
   ]
  },
  {
   "cell_type": "code",
   "execution_count": null,
   "metadata": {},
   "outputs": [],
   "source": [
    "mu = 0\n",
    "sigma = 1\n",
    "\n",
    "L_ech_exp = generateur_echantillon(normalvariate, 500, mu, sigma)"
   ]
  },
  {
   "cell_type": "code",
   "execution_count": null,
   "metadata": {},
   "outputs": [],
   "source": [
    "histogram(L_ech_exp,bins=20,density=true)+plot((1/(sigma*sqrt(2*pi)))*exp(-((x-mu)**2)/(2*sigma**2)), (x, min(L_ech_exp)*1.05, max(L_ech_exp)*1.05), color='red', linestyle='-')"
   ]
  },
  {
   "cell_type": "markdown",
   "metadata": {},
   "source": [
    "L'option \"density\", lorsqu'elle est placée à \"False\", affiche le nombre de valeurs pour chaque classe.\n",
    "Lorsqu'elle est placée à \"True\", il y a une normalisation des valeurs en ordonnée de façon à obtenir une intégrale (plutôt une somme) égale à 1 sur la plage de valeur prise en abscisse."
   ]
  },
  {
   "cell_type": "markdown",
   "metadata": {},
   "source": [
    "## 2 Programmation du test du ${\\chi}^2$"
   ]
  },
  {
   "cell_type": "markdown",
   "metadata": {},
   "source": [
    "### 2.1 Ajustement à la loi de Poisson"
   ]
  },
  {
   "cell_type": "markdown",
   "metadata": {},
   "source": [
    "### 2.3 Convergence de la loi binomiale vers la loi de Poisson"
   ]
  },
  {
   "cell_type": "markdown",
   "metadata": {},
   "source": [
    "### 2.4 Ajustement à la loi exponentielle"
   ]
  },
  {
   "cell_type": "markdown",
   "metadata": {},
   "source": [
    "### 2.5 Ajustement à la loi normale"
   ]
  },
  {
   "cell_type": "markdown",
   "metadata": {},
   "source": [
    "## 3 Théorème central limit avec $SageMath$"
   ]
  },
  {
   "cell_type": "code",
   "execution_count": null,
   "metadata": {},
   "outputs": [],
   "source": []
  }
 ],
 "metadata": {
  "kernelspec": {
   "display_name": "Python 3",
   "language": "python",
   "name": "python3"
  },
  "language_info": {
   "codemirror_mode": {
    "name": "ipython",
    "version": 3
   },
   "file_extension": ".py",
   "mimetype": "text/x-python",
   "name": "python",
   "nbconvert_exporter": "python",
   "pygments_lexer": "ipython3",
   "version": "3.11.0 (main, Oct 24 2022, 18:26:48) [MSC v.1933 64 bit (AMD64)]"
  },
  "vscode": {
   "interpreter": {
    "hash": "bdd467bb7a4f68e3b269196ac6111605f64c5fc48bbe9ab62ea9179eddee323f"
   }
  }
 },
 "nbformat": 4,
 "nbformat_minor": 4
}
