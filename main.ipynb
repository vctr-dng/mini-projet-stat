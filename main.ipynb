{
 "cells": [
  {
   "cell_type": "markdown",
   "metadata": {},
   "source": [
    "# Mini-projet de statistiques\n",
    "\n",
    "Informatique 2\n",
    "\n",
    "2022 2023"
   ]
  },
  {
   "cell_type": "code",
   "execution_count": null,
   "metadata": {},
   "outputs": [],
   "source": [
    "import warnings\n",
    "x = var('x')"
   ]
  },
  {
   "cell_type": "markdown",
   "metadata": {},
   "source": [
    "## 1 Génération de lois continues"
   ]
  },
  {
   "cell_type": "markdown",
   "metadata": {},
   "source": [
    "### 1. Ecriture de la fonction VAuniforme qui renvoie une valeur issue de la loi uniforme sur [a,b]"
   ]
  },
  {
   "cell_type": "code",
   "execution_count": null,
   "metadata": {},
   "outputs": [],
   "source": [
    "def VAuniforme(a, b):\n",
    "    if a > b:\n",
    "        warnings.warn(f\"[ERREUR] : VAUniforme, support invalide {a} > {b}\")\n",
    "        return\n",
    "    \n",
    "    return a + random() * (b-a)"
   ]
  },
  {
   "cell_type": "code",
   "execution_count": null,
   "metadata": {},
   "outputs": [],
   "source": [
    "VAuniforme(1, 10)"
   ]
  },
  {
   "cell_type": "markdown",
   "metadata": {},
   "source": [
    "### 2."
   ]
  },
  {
   "cell_type": "code",
   "execution_count": null,
   "metadata": {},
   "outputs": [],
   "source": [
    "def generateur_echantillon(loi_proba, n_echantillon, *args):\n",
    "    '''\n",
    "    Retourne une liste de n_echantillon echantillon(s) de loi_proba avec les paramètres *args\n",
    "    Exemple : generateur_echantillon(VAuniforme, 100, 0, 1)\n",
    "    '''\n",
    "    l_echantillon = []\n",
    "    for i in range(n_echantillon):\n",
    "        echantillon = loi_proba(*args)\n",
    "        l_echantillon.append(echantillon)\n",
    "    \n",
    "    return l_echantillon"
   ]
  },
  {
   "cell_type": "code",
   "execution_count": null,
   "metadata": {},
   "outputs": [],
   "source": [
    "def Erreur_Quadratique(l_echantillon, parametre):\n",
    "    '''\n",
    "    Calcul la moyenne des erreurs quadratiques moyennes entre le paramètre cible et les estimations issues de l'estimateur\n",
    "    '''\n",
    "    \n",
    "    l_diff_carre = [(echantillon-parametre)**2 for echantillon in l_echantillon]\n",
    "    return mean(l_diff_carre)"
   ]
  },
  {
   "cell_type": "markdown",
   "metadata": {},
   "source": [
    "Vérification pour la loi exponentielle $\\epsilon(\\lambda)$ avec $ \\lambda $ entier variant de 1 à 10"
   ]
  },
  {
   "cell_type": "code",
   "execution_count": null,
   "metadata": {},
   "outputs": [],
   "source": [
    "for lambd in range(1, 11):\n",
    "    E_ree = 1/lambd\n",
    "    V_ree = 1/(lambd**2)\n",
    "    l_E_est = []\n",
    "    l_V_est = []\n",
    "    \n",
    "    # for i in range(1000):\n",
    "    l_echantillon = generateur_echantillon(expovariate, 1000, lambd)\n",
    "    E_est = mean(l_echantillon)\n",
    "    V_est = variance(l_echantillon)\n",
    "\n",
    "    l_E_est.append(E_est)\n",
    "    l_V_est.append(V_est)\n",
    "\n",
    "    print(f'Lambda = {lambd}')\n",
    "    print('Erreur quadratique :')\n",
    "    print(f'- de la moyenne estimée : {Erreur_Quadratique(l_E_est, E_ree)}')\n",
    "    print(f'- de la variance estimée : {Erreur_Quadratique(l_V_est, V_ree)}')"
   ]
  },
  {
   "cell_type": "markdown",
   "metadata": {},
   "source": [
    "Vérification pour la loi gamma $\\Gamma(k,\\theta)$ où $k=5, \\theta=2$"
   ]
  },
  {
   "cell_type": "code",
   "execution_count": null,
   "metadata": {},
   "outputs": [],
   "source": [
    "k = 5\n",
    "theta = 2\n",
    "\n",
    "l_echantillon = generateur_echantillon(gammavariate, 1000, k, theta)\n",
    "\n",
    "E_est = mean(l_echantillon)\n",
    "V_est = variance(l_echantillon)\n",
    "\n",
    "print(f'Espérance réelle {k*theta}')\n",
    "print(f'Espérance estimée {E_est}')\n",
    "print(f'Variance réelle {k*theta**2}')\n",
    "print(f'Variance estimée {V_est}')"
   ]
  },
  {
   "cell_type": "markdown",
   "metadata": {},
   "source": [
    "Vérification pour la loi gamma $\\Gamma(k,\\theta)$ où k et $\\theta$ entiers variant de 1 à 10"
   ]
  },
  {
   "cell_type": "code",
   "execution_count": null,
   "metadata": {},
   "outputs": [],
   "source": [
    "for k in range(1, 11):\n",
    "    for theta in range(1, 11):\n",
    "        E_ree = k*theta\n",
    "        V_ree = k*(theta**2)\n",
    "        l_E_est = []\n",
    "        l_V_est = []\n",
    "\n",
    "        #for i in range(10):\n",
    "        l_echantillon = generateur_echantillon(gammavariate, 1000, k, theta)\n",
    "        E_est = mean(l_echantillon)\n",
    "        V_est = variance(l_echantillon)\n",
    "\n",
    "        l_E_est.append(E_est)\n",
    "        l_V_est.append(V_est)\n",
    "\n",
    "        print(f'k = {k}, theta = {theta}')\n",
    "        print('Erreur quadratique :')\n",
    "        print(f'- de la moyenne estimée : {Erreur_Quadratique(l_E_est, E_ree)}')\n",
    "        print(f'- de la variance estimée : {Erreur_Quadratique(l_V_est, V_ree)}')"
   ]
  },
  {
   "cell_type": "markdown",
   "metadata": {},
   "source": [
    "Vérification pour la loi normale $\\mathcal{N}(\\mu,\\,\\sigma^{2})$ où $\\mu$ et $\\sigma$ entiers variant de -5 à 5 et 1 à 10 respectivement"
   ]
  },
  {
   "cell_type": "code",
   "execution_count": null,
   "metadata": {},
   "outputs": [],
   "source": [
    "for mu in range(-5, 6):\n",
    "    for sigma in range(1, 11):\n",
    "        E_ree = mu\n",
    "        V_ree = sigma**2\n",
    "        l_E_est = []\n",
    "        l_V_est = []\n",
    "\n",
    "        #for i in range(10):\n",
    "        l_echantillon = generateur_echantillon(normalvariate, 1000, mu, sigma)\n",
    "        E_est = mean(l_echantillon)\n",
    "        V_est = variance(l_echantillon)\n",
    "\n",
    "        l_E_est.append(E_est)\n",
    "        l_V_est.append(V_est)\n",
    "\n",
    "        print(f'mu = {mu}, sigma = {sigma}')\n",
    "        print('Erreur quadratique :')\n",
    "        print(f'- de la moyenne estimée : {Erreur_Quadratique(l_E_est, E_ree)}')\n",
    "        print(f'- de la variance estimée : {Erreur_Quadratique(l_V_est, V_ree)}')"
   ]
  },
  {
   "cell_type": "markdown",
   "metadata": {},
   "source": [
    "Vérification pour la loi normale $\\mathcal{N}(\\mu,\\,\\sigma^{2})$ de paramètre $\\mu=5, \\sigma=2$"
   ]
  },
  {
   "cell_type": "code",
   "execution_count": null,
   "metadata": {},
   "outputs": [],
   "source": [
    "mu = 5\n",
    "sigma = 2\n",
    "\n",
    "l_echantillon = generateur_echantillon(normalvariate, 1000, mu, sigma)\n",
    "\n",
    "E_est = mean(l_echantillon)\n",
    "V_est = variance(l_echantillon)\n",
    "\n",
    "print(f'Espérance réelle {mu}')\n",
    "print(f'Espérance estimée {E_est}')\n",
    "print(f'Variance réelle {sigma**2}')\n",
    "print(f'Variance estimée {V_est}')"
   ]
  },
  {
   "cell_type": "markdown",
   "metadata": {},
   "source": [
    "### 3."
   ]
  },
  {
   "cell_type": "markdown",
   "metadata": {},
   "source": [
    "Histogramme pour 500 échantillons répartiés sur 20 classes pour une loi :"
   ]
  },
  {
   "cell_type": "markdown",
   "metadata": {},
   "source": [
    "- $\\epsilon(\\lambda)$ de paramètre $\\lambda= 5$"
   ]
  },
  {
   "cell_type": "code",
   "execution_count": null,
   "metadata": {},
   "outputs": [],
   "source": [
    "lambd = 5\n",
    "\n",
    "L_ech_exp = generateur_echantillon(expovariate, 500, lambd)"
   ]
  },
  {
   "cell_type": "code",
   "execution_count": null,
   "metadata": {},
   "outputs": [],
   "source": [
    "def densite_expo(x,lambd): #TODO\n",
    "    pass"
   ]
  },
  {
   "cell_type": "code",
   "execution_count": null,
   "metadata": {},
   "outputs": [],
   "source": [
    "histogram(L_ech_exp,bins=20)+plot(lambd*exp(-lambd*x), (x, min(L_ech_exp)*1.05, max(L_ech_exp)*1.05), color='red', linestyle='-')"
   ]
  },
  {
   "cell_type": "code",
   "execution_count": null,
   "metadata": {},
   "outputs": [],
   "source": [
    "histogram(L_ech_exp,bins=20,density=True)+plot(lambd*exp(-lambd*x), (x, min(L_ech_exp)*1.05, max(L_ech_exp)*1.05), color='red', linestyle='-')"
   ]
  },
  {
   "cell_type": "markdown",
   "metadata": {},
   "source": [
    "- $\\Gamma(k,\\theta)$ de paramètre $ k = 5 $ et $ \\theta = 2 $"
   ]
  },
  {
   "cell_type": "code",
   "execution_count": null,
   "metadata": {},
   "outputs": [],
   "source": [
    "k = 5\n",
    "theta = 2\n",
    "\n",
    "L_ech_exp = generateur_echantillon(gammavariate, 500, k, theta)"
   ]
  },
  {
   "cell_type": "code",
   "execution_count": null,
   "metadata": {},
   "outputs": [],
   "source": [
    "def densite_gamma(x, k, theta): #TODO\n",
    "    numerateur = (x**(k-1) * exp(-x/theta))\n",
    "    denominateur = gamma(k) * theta**(k)\n",
    "    \n",
    "    return numerateur/denominateur"
   ]
  },
  {
   "cell_type": "code",
   "execution_count": null,
   "metadata": {},
   "outputs": [],
   "source": [
    "histogram(L_ech_exp,bins=20,density=True)+plot(densite_gamma(x, k, theta), (x, min(L_ech_exp)*1.05, max(L_ech_exp)*1.05), color='red', linestyle='-')"
   ]
  },
  {
   "cell_type": "markdown",
   "metadata": {},
   "source": [
    "- $\\mathcal{N}(\\mu,\\,\\sigma^{2})$ de paramètre $ \\mu = 5 $ et $ \\sigma = 4 $"
   ]
  },
  {
   "cell_type": "code",
   "execution_count": null,
   "metadata": {},
   "outputs": [],
   "source": [
    "sigma = 5\n",
    "mu = 4\n",
    "\n",
    "L_ech_exp = generateur_echantillon(normalvariate, 500, sigma, mu)"
   ]
  },
  {
   "cell_type": "code",
   "execution_count": null,
   "metadata": {},
   "outputs": [],
   "source": [
    "def densite_normale(x, sigma, mu):\n",
    "    variance = mu**2\n",
    "    facteur = 1/(mu*sqrt(2*pi))\n",
    "    argument = -((x-sigma)**2)/(2*variance)\n",
    "    \n",
    "    return facteur * exp(argument)"
   ]
  },
  {
   "cell_type": "code",
   "execution_count": null,
   "metadata": {},
   "outputs": [],
   "source": [
    "histogram(L_ech_exp,bins=20,density=True)+plot(densite_normale(x, sigma, mu), (min(L_ech_exp)*1.05, max(L_ech_exp)*1.05), color='red', linestyle='-')"
   ]
  },
  {
   "cell_type": "markdown",
   "metadata": {},
   "source": [
    "L'option \"density\", lorsqu'elle est placée à \"False\", affiche le nombre de valeurs pour chaque classe.\n",
    "Lorsqu'elle est placée à \"True\", il y a une normalisation des valeurs en ordonnée de façon à obtenir une intégrale (plutôt une somme) égale à 1 sur la plage de valeur prise en abscisse."
   ]
  },
  {
   "cell_type": "markdown",
   "metadata": {},
   "source": [
    "## 2 Programmation du test du ${\\chi}^2$"
   ]
  },
  {
   "cell_type": "markdown",
   "metadata": {},
   "source": [
    "### 2.1 Ajustement à la loi de Poisson"
   ]
  },
  {
   "cell_type": "markdown",
   "metadata": {},
   "source": [
    "### 1."
   ]
  },
  {
   "cell_type": "code",
   "execution_count": null,
   "metadata": {},
   "outputs": [],
   "source": [
    "def p_Poisson(k, lamb):\n",
    "    \n",
    "    facteur = (lamb**k)/factorial(k)\n",
    "    expo = math.exp(-lamb)\n",
    "    \n",
    "    return facteur*expo"
   ]
  },
  {
   "cell_type": "code",
   "execution_count": null,
   "metadata": {},
   "outputs": [],
   "source": [
    "def DistTheoriquePoisson(LoiDiscObs, lamb):\n",
    "    #LoiDiscObs = [[effectif observée], [modalité]]\n",
    "    \n",
    "    distri_Poisson = [[],[]] #[[probabilite théorique], [modalité]]\n",
    "    \n",
    "    l_eff = LoiDiscObs[0]\n",
    "    l_moda = LoiDiscObs[1]\n",
    "    \n",
    "    for modalite in l_moda:\n",
    "        distri_Poisson[0].append(p_Poisson(modalite, lamb))\n",
    "        distri_Poisson[1].append(modalite)\n",
    "    \n",
    "    return distri_Poisson"
   ]
  },
  {
   "cell_type": "markdown",
   "metadata": {},
   "source": [
    "### 2."
   ]
  },
  {
   "cell_type": "code",
   "execution_count": null,
   "metadata": {},
   "outputs": [],
   "source": [
    "def DistaEffectifTheorique(distri_theorique, taille_echan):\n",
    "    #distri_theorique = [[probabilite théorique], [modalité]]\n",
    "    \n",
    "    eff_theorique = [[], []] #[[effectif théorique], [modalité]]\n",
    "    \n",
    "    l_proba = distri_theorique[0]\n",
    "    l_moda = distri_theorique[1]\n",
    "    \n",
    "    for i in range(len(l_moda)):\n",
    "        eff_theorique[0].append(l_proba[i]*taille_echan)\n",
    "        eff_theorique[1].append(l_moda[i])\n",
    "    \n",
    "    return eff_theorique"
   ]
  },
  {
   "cell_type": "code",
   "execution_count": null,
   "metadata": {},
   "outputs": [],
   "source": [
    "def DistanceChiDeux(EffObs, EffTheorique):\n",
    "    # EffObs = [[effectif observée], [modalité]]\n",
    "    # EffTheorique = [[effectif théorique], [modalité]]\n",
    "    \n",
    "    dist = 0\n",
    "    \n",
    "    l_moda = EffObs[1]\n",
    "    \n",
    "    l_eff_obs = EffObs[0]\n",
    "    \n",
    "    l_eff_theo = EffTheorique[0]\n",
    "    \n",
    "    for k in range(len(l_moda)):\n",
    "        dist = dist + ((l_eff_obs[k] - l_eff_theo[k])**2)/l_eff_theo[k]\n",
    "    \n",
    "    return dist"
   ]
  },
  {
   "cell_type": "markdown",
   "metadata": {},
   "source": [
    "### 2.3 Convergence de la loi binomiale vers la loi de Poisson"
   ]
  },
  {
   "cell_type": "markdown",
   "metadata": {},
   "source": [
    "### 1."
   ]
  },
  {
   "cell_type": "code",
   "execution_count": null,
   "metadata": {},
   "outputs": [],
   "source": [
    "def Bernoulli(p):\n",
    "    valeur = 0\n",
    "    \n",
    "    a = random()\n",
    "    if a <= p:\n",
    "        valeur = 1\n",
    "    else:\n",
    "        valeur = 0\n",
    "    \n",
    "    return valeur"
   ]
  },
  {
   "cell_type": "code",
   "execution_count": null,
   "metadata": {},
   "outputs": [],
   "source": [
    "l = []\n",
    "for i in range(10000):\n",
    "    l.append(Bernoulli(0.25))\n",
    "\n",
    "print(float(mean(l)))"
   ]
  },
  {
   "cell_type": "markdown",
   "metadata": {},
   "source": [
    "### 2."
   ]
  },
  {
   "cell_type": "code",
   "execution_count": null,
   "metadata": {},
   "outputs": [],
   "source": [
    "def Binomiale(n, p):\n",
    "    l_bernoulli = generateur_echantillon(Bernoulli, n, p)\n",
    "    \n",
    "    valeur = sum(l_bernoulli)\n",
    "    \n",
    "    return valeur"
   ]
  },
  {
   "cell_type": "code",
   "execution_count": null,
   "metadata": {
    "scrolled": true
   },
   "outputs": [],
   "source": [
    "l = []\n",
    "n = 8\n",
    "p = 0.25\n",
    "for i in range(10000):\n",
    "    l.append(Binomiale(n, p))\n",
    "\n",
    "moy_obs=float(mean(l))\n",
    "moy_theo = n*p\n",
    "\n",
    "print(moy_obs)\n",
    "print(moy_theo)"
   ]
  },
  {
   "cell_type": "markdown",
   "metadata": {},
   "source": [
    "### 3."
   ]
  },
  {
   "cell_type": "code",
   "execution_count": null,
   "metadata": {
    "scrolled": true
   },
   "outputs": [],
   "source": [
    "def LoiDiscreteObs(L, a, b):\n",
    "    \n",
    "    L_ord = [x for x in L] # copie carbone sinon on ne fait que copier la référence à la liste\n",
    "    L_ord.sort() # trie en place de la liste copiée, la liste originale est intouchée\n",
    "    \n",
    "    elt = []\n",
    "    eff = []\n",
    "    \n",
    "    index = 0\n",
    "    \n",
    "    while(index < len(L_ord)):\n",
    "        val = L_ord[index]\n",
    "        \n",
    "        if val < a:\n",
    "            index = index + 1\n",
    "        if val >= a:\n",
    "            if val <= b:\n",
    "                elt.append(val)\n",
    "                occurence = L_ord.count(val)\n",
    "                eff.append(occurence)\n",
    "                index = index + occurence\n",
    "            else: # val > b\n",
    "                index = len(L_ord) # equivalent à break\n",
    "    \n",
    "    return [eff, elt]"
   ]
  },
  {
   "cell_type": "code",
   "execution_count": null,
   "metadata": {},
   "outputs": [],
   "source": [
    "L = [randint(0, 10) for i in range(20)]\n",
    "\n",
    "print(L)\n",
    "print(LoiDiscreteObs(L, 3, 7))"
   ]
  },
  {
   "cell_type": "markdown",
   "metadata": {},
   "source": [
    "### 4.\n",
    "$n \\geq 50$ et $\\lambda \\leq 0,1$"
   ]
  },
  {
   "cell_type": "code",
   "execution_count": null,
   "metadata": {
    "scrolled": true
   },
   "outputs": [],
   "source": [
    "#n = randint(50, 10000)\n",
    "n = 50\n",
    "p = VAuniforme(0, 0.1)\n",
    "\n",
    "param_estim = 0\n",
    "\n",
    "taille_echan = 1000\n",
    "\n",
    "print(f'n = {n}')\n",
    "print(f'p = {p}')\n",
    "print(f'taille d\\'echantillon = {taille_echan}')"
   ]
  },
  {
   "cell_type": "code",
   "execution_count": null,
   "metadata": {
    "scrolled": true
   },
   "outputs": [],
   "source": [
    "echantillon_binomiale = generateur_echantillon(Binomiale, taille_echan, n, p)\n",
    "\n",
    "moy_obs = mean(echantillon_binomiale)\n",
    "var_obs = variance(echantillon_binomiale)\n",
    "\n",
    "moy_theo = n*p\n",
    "var_theo = n*p*(1-p)\n",
    "\n",
    "print(moy_theo, float(moy_obs))\n",
    "print(var_theo, float(var_obs))"
   ]
  },
  {
   "cell_type": "code",
   "execution_count": null,
   "metadata": {},
   "outputs": [],
   "source": [
    "lamb = moy_obs\n",
    "param_estim += 1\n",
    "\n",
    "loi_obs = LoiDiscreteObs(echantillon_binomiale, 0, max(echantillon_binomiale))\n",
    "\n",
    "modalite = loi_obs[1]\n",
    "card_modalite = len(modalite)\n",
    "\n",
    "modalite_pauvre = []\n",
    "for i in range(len(modalite)):\n",
    "    eff = loi_obs[0][i]\n",
    "    if eff < 5:\n",
    "        modalite_pauvre.append(modalite[i])\n",
    "\n",
    "if len(modalite_pauvre) > 0:\n",
    "    print(\"Attention les modalités suivantes ont moins de 5 observations :\")\n",
    "    print(', '.join(map(str, modalite_pauvre)))\n",
    "\n",
    "dist_theo = DistTheoriquePoisson(loi_obs, lamb)\n",
    "\n",
    "eff_theo = DistaEffectifTheorique(dist_theo, taille_echan)"
   ]
  },
  {
   "cell_type": "code",
   "execution_count": null,
   "metadata": {},
   "outputs": [],
   "source": [
    "print(loi_obs)\n",
    "\n",
    "dist_chi2 = DistanceChiDeux(loi_obs, eff_theo)\n",
    "\n",
    "print(f'La valeur de la distance suite au test du khi 2 est : {dist_chi2}')\n",
    "\n",
    "print(f'\\nIl y a {card_modalite} classes')\n",
    "print(f'Il a été estimé {param_estim} paramètre{\"s\" if param_estim > 1 else \"\"}')\n",
    "print(f'Le degré de liberté est {card_modalite-1-param_estim}')"
   ]
  },
  {
   "cell_type": "markdown",
   "metadata": {},
   "source": [
    "### 2.4 Ajustement à la loi exponentielle"
   ]
  },
  {
   "cell_type": "markdown",
   "metadata": {},
   "source": [
    "### 2.5 Ajustement à la loi normale"
   ]
  },
  {
   "cell_type": "markdown",
   "metadata": {},
   "source": [
    "## 3 Théorème central limite avec $SageMath$"
   ]
  },
  {
   "cell_type": "markdown",
   "metadata": {},
   "source": [
    "## 3.1 Génération d'un échantillon de taille m issue de la moyenne empirique de n v.a i.i.d de loi $\\Gamma(\\alpha,\\beta)$"
   ]
  },
  {
   "cell_type": "code",
   "execution_count": null,
   "metadata": {},
   "outputs": [],
   "source": [
    "n = 15\n",
    "m = 500\n",
    "alpha = 2\n",
    "beta = 5\n",
    "\n",
    "l_m_emp_obs = []\n",
    "\n",
    "for i in range(m):\n",
    "    l_echantillon = generateur_echantillon(gammavariate, n, alpha, beta)\n",
    "    m_emp_obs = mean(l_echantillon)\n",
    "    l_m_emp_obs.append(m_emp_obs)"
   ]
  },
  {
   "cell_type": "markdown",
   "metadata": {},
   "source": [
    "## 3.2 Visualisation des effets du théorème central limite"
   ]
  },
  {
   "cell_type": "code",
   "execution_count": null,
   "metadata": {
    "scrolled": true
   },
   "outputs": [],
   "source": [
    "sigma_TCL = mean(l_m_emp_obs)\n",
    "mu_TCL_nb = sqrt(variance(l_m_emp_obs))\n",
    "mu_TCL_b = sqrt(variance(l_m_emp_obs), bias=True)\n",
    "\n",
    "histogram(l_m_emp_obs,bins=20,density=true)+plot(densite_normale(x, sigma_TCL, mu_TCL_nb), (min(l_m_emp_obs)*0.9, max(l_m_emp_obs)*1.1), color='red', linestyle='-')#+plot(densite_normale(x, sigma_TCL, mu_TCL_b), (min(l_m_emp_obs)*0.9, max(l_m_emp_obs)*1.1), color='blue', linestyle='-')"
   ]
  },
  {
   "cell_type": "code",
   "execution_count": null,
   "metadata": {},
   "outputs": [],
   "source": []
  }
 ],
 "metadata": {
  "kernelspec": {
   "display_name": "SageMath 9.3",
   "language": "sage",
   "name": "sagemath"
  },
  "language_info": {
   "codemirror_mode": {
    "name": "ipython",
    "version": 3
   },
   "file_extension": ".py",
   "mimetype": "text/x-python",
   "name": "python",
   "nbconvert_exporter": "python",
   "pygments_lexer": "ipython3",
   "version": "3.7.10"
  },
  "vscode": {
   "interpreter": {
    "hash": "bdd467bb7a4f68e3b269196ac6111605f64c5fc48bbe9ab62ea9179eddee323f"
   }
  }
 },
 "nbformat": 4,
 "nbformat_minor": 4
}
